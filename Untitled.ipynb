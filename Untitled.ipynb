{
 "cells": [
  {
   "cell_type": "code",
   "execution_count": 19,
   "id": "ab65291c",
   "metadata": {},
   "outputs": [],
   "source": [
    "import openai"
   ]
  },
  {
   "cell_type": "code",
   "execution_count": 20,
   "id": "e8e4ea35",
   "metadata": {},
   "outputs": [],
   "source": [
    "openai.api_key = \"YOUR_OPENAI_KEY\""
   ]
  },
  {
   "cell_type": "code",
   "execution_count": 21,
   "id": "4b118135",
   "metadata": {},
   "outputs": [],
   "source": [
    "text = 'Olá, meu nome é diego falo em nome do Banco BV, vi que o senhor tem uma dívida no valor de 500 reais'\n",
    "\n",
    "questions = [\n",
    "    'qual é o nome do atendente?',\n",
    "    'qual o nome do banco?',\n",
    "    'qual o valor da dívida?'\n",
    "]\n",
    "\n",
    "default_template = 'Extraia as seguintes informações e retorn em json:'\n",
    "\n",
    "final_template = text + '\\n' + default_template + '\\n'.join([question for question in questions])"
   ]
  },
  {
   "cell_type": "code",
   "execution_count": 22,
   "id": "ddcf32dc",
   "metadata": {},
   "outputs": [
    {
     "name": "stdout",
     "output_type": "stream",
     "text": [
      "{\n",
      "   \"nome_atendente\": \"Diego\",\n",
      "   \"nome_banco\": \"BV\",\n",
      "   \"valor_divida\": 500\n",
      "}\n"
     ]
    }
   ],
   "source": [
    "response = openai.ChatCompletion.create(\n",
    "    model=\"gpt-3.5-turbo\",\n",
    "    messages=[\n",
    "            {\"role\": \"user\", \"content\": final_template},\n",
    "        ]\n",
    ")\n",
    "\n",
    "result = ''\n",
    "for choice in response.choices:\n",
    "    result += choice.message.content\n",
    "\n",
    "print(result)"
   ]
  },
  {
   "cell_type": "code",
   "execution_count": null,
   "id": "33c78388",
   "metadata": {},
   "outputs": [],
   "source": []
  }
 ],
 "metadata": {
  "kernelspec": {
   "display_name": "Python 3 (ipykernel)",
   "language": "python",
   "name": "python3"
  },
  "language_info": {
   "codemirror_mode": {
    "name": "ipython",
    "version": 3
   },
   "file_extension": ".py",
   "mimetype": "text/x-python",
   "name": "python",
   "nbconvert_exporter": "python",
   "pygments_lexer": "ipython3",
   "version": "3.8.8"
  }
 },
 "nbformat": 4,
 "nbformat_minor": 5
}
